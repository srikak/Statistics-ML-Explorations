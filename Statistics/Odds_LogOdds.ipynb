{
 "cells": [
  {
   "cell_type": "markdown",
   "id": "afbdfcf1-de12-4b83-9a38-a6bb4271144d",
   "metadata": {},
   "source": [
    "# Jupyter Notebook\n",
    "\n",
    "## Code and Visualization: Odds and log(Odds) for Sums of Two Dice"
   ]
  },
  {
   "cell_type": "markdown",
   "id": "47457035-dc7a-4915-a6bb-a8283f609186",
   "metadata": {},
   "source": [
    "### Import Libraries"
   ]
  },
  {
   "cell_type": "code",
   "execution_count": 19,
   "id": "f6c1b7e5-e4fc-4d29-b078-4190aeed30aa",
   "metadata": {},
   "outputs": [
    {
     "ename": "NameError",
     "evalue": "name 'pyo' is not defined",
     "output_type": "error",
     "traceback": [
      "\u001b[1;31m---------------------------------------------------------------------------\u001b[0m",
      "\u001b[1;31mNameError\u001b[0m                                 Traceback (most recent call last)",
      "Cell \u001b[1;32mIn[19], line 7\u001b[0m\n\u001b[0;32m      4\u001b[0m \u001b[38;5;28;01mimport\u001b[39;00m \u001b[38;5;21;01mplotly\u001b[39;00m\u001b[38;5;21;01m.\u001b[39;00m\u001b[38;5;21;01mgraph_objects\u001b[39;00m \u001b[38;5;28;01mas\u001b[39;00m \u001b[38;5;21;01mgo\u001b[39;00m\n\u001b[0;32m      5\u001b[0m \u001b[38;5;28;01mfrom\u001b[39;00m \u001b[38;5;21;01mplotly\u001b[39;00m\u001b[38;5;21;01m.\u001b[39;00m\u001b[38;5;21;01msubplots\u001b[39;00m \u001b[38;5;28;01mimport\u001b[39;00m make_subplots\n\u001b[1;32m----> 7\u001b[0m pyo\u001b[38;5;241m.\u001b[39minit_notebook_mode()\n",
      "\u001b[1;31mNameError\u001b[0m: name 'pyo' is not defined"
     ]
    }
   ],
   "source": [
    "import numpy as np\n",
    "import pandas as pd\n",
    "\n",
    "import plotly.graph_objects as go\n",
    "from plotly.subplots import make_subplots\n",
    "import plotly.offline as pyo\n",
    "pyo.init_notebook_mode()"
   ]
  },
  {
   "cell_type": "markdown",
   "id": "220e07e9-8381-4362-8b2d-9f1093504285",
   "metadata": {},
   "source": [
    "### Generate sample space for throwing two dice"
   ]
  },
  {
   "cell_type": "code",
   "execution_count": null,
   "id": "7cd800c0-adc2-4326-91d4-8a0aca34e5c7",
   "metadata": {},
   "outputs": [],
   "source": [
    "faces = [1, 2, 3, 4, 5, 6]  # Define the faces of a die\n",
    "\n",
    "# Create a DataFrame with all combinations of the two dice\n",
    "sample_space = pd.DataFrame([(d1, d2) for d1 in faces for d2 in faces], \n",
    "                            columns=['Die1', 'Die2'])"
   ]
  },
  {
   "cell_type": "markdown",
   "id": "99528275-cce1-4053-9ac5-824e18457a52",
   "metadata": {},
   "source": [
    "### Query: Odds of getting a sum > n"
   ]
  },
  {
   "cell_type": "code",
   "execution_count": null,
   "id": "4502806d-62fb-4989-ae0f-c2a00ab8ab0f",
   "metadata": {},
   "outputs": [],
   "source": [
    "# Define the threshold sum\n",
    "n = 2\n",
    "\n",
    "# Calculate the sum of the two dice\n",
    "sample_space['Sum'] = sample_space['Die1'] + sample_space['Die2']\n",
    "\n",
    "# Calculate the number of favourable outcomes\n",
    "favourable_outcomes = len(sample_space[sample_space['Sum'] > n])\n",
    "\n",
    "# Calculate the total number of outcomes\n",
    "total_outcomes = len(sample_space)\n",
    "\n",
    "# Calculate the probability\n",
    "probability = favourable_outcomes / total_outcomes\n",
    "\n",
    "# Calculate the odds\n",
    "odds = probability / (1 - probability)\n",
    "\n",
    "# Print the results\n",
    "if odds >= 1:\n",
    "    print(f\"For sum > {n}, odds = {odds:.2f} --> In favour\\n\")\n",
    "elif odds >= 0 and odds < 1:\n",
    "    print(f\"For sum > {n}, odds = {odds:.2f} --> Against\\n\")"
   ]
  },
  {
   "cell_type": "markdown",
   "id": "442bf154-7bf3-4b1f-a3bc-5f52b8aa609d",
   "metadata": {},
   "source": [
    "### Odds distribution"
   ]
  },
  {
   "cell_type": "code",
   "execution_count": 20,
   "id": "e2df5dae-aca0-4ab7-bb21-4bef63696060",
   "metadata": {},
   "outputs": [],
   "source": [
    "odds_distribution = []\n",
    "log_odds = []\n",
    "outcomes = []\n",
    "\n",
    "# Loop through possible sums to calculate odds and log odds\n",
    "for n in range(0, 12):\n",
    "    favourable_outcomes = len(sample_space[sample_space['Sum'] > n])\n",
    "    outcomes.append(favourable_outcomes)\n",
    "    \n",
    "    p = favourable_outcomes / len(sample_space)\n",
    "    \n",
    "    # Handle division by zero\n",
    "    if p == 1:\n",
    "        odds_distribution.append(np.inf)\n",
    "        log_odds.append(np.inf)\n",
    "    else:\n",
    "        odds_distribution.append(p / (1 - p))\n",
    "        log_odds.append(np.log(p / (1 - p)))"
   ]
  },
  {
   "cell_type": "markdown",
   "id": "4db4e994-d621-4d7e-8793-852a896dc231",
   "metadata": {},
   "source": [
    "### Plots"
   ]
  },
  {
   "cell_type": "code",
   "execution_count": 22,
   "id": "1a45ec78-8582-408d-b3de-54234d3dda91",
   "metadata": {},
   "outputs": [
    {
     "ename": "NameError",
     "evalue": "name 'pyo' is not defined",
     "output_type": "error",
     "traceback": [
      "\u001b[1;31m---------------------------------------------------------------------------\u001b[0m",
      "\u001b[1;31mNameError\u001b[0m                                 Traceback (most recent call last)",
      "Cell \u001b[1;32mIn[22], line 27\u001b[0m\n\u001b[0;32m     19\u001b[0m fig\u001b[38;5;241m.\u001b[39mupdate_layout(\n\u001b[0;32m     20\u001b[0m     title\u001b[38;5;241m=\u001b[39m\u001b[38;5;124m'\u001b[39m\u001b[38;5;124mOdds and log(Odds) for Sums of Two Dice\u001b[39m\u001b[38;5;124m'\u001b[39m,\n\u001b[0;32m     21\u001b[0m     xaxis_title\u001b[38;5;241m=\u001b[39m\u001b[38;5;124m'\u001b[39m\u001b[38;5;124mSum Greater Than\u001b[39m\u001b[38;5;124m'\u001b[39m,\n\u001b[0;32m     22\u001b[0m     yaxis_title\u001b[38;5;241m=\u001b[39m\u001b[38;5;124m'\u001b[39m\u001b[38;5;124mValue\u001b[39m\u001b[38;5;124m'\u001b[39m,\n\u001b[0;32m     23\u001b[0m     legend_title\u001b[38;5;241m=\u001b[39m\u001b[38;5;124m'\u001b[39m\u001b[38;5;124mLegend\u001b[39m\u001b[38;5;124m'\u001b[39m  \n\u001b[0;32m     24\u001b[0m )\n\u001b[0;32m     26\u001b[0m \u001b[38;5;66;03m# Show the figure\u001b[39;00m\n\u001b[1;32m---> 27\u001b[0m pyo\u001b[38;5;241m.\u001b[39miplot(fig)\n",
      "\u001b[1;31mNameError\u001b[0m: name 'pyo' is not defined"
     ]
    }
   ],
   "source": [
    "fig = go.Figure()  # Create a new figure\n",
    "\n",
    "# Create a color array based on the odds distribution\n",
    "colors = ['green' if o >= 1 else 'red' for o in odds_distribution]\n",
    "\n",
    "# Add trace for odds distribution\n",
    "fig.add_trace(go.Scatter(x=outcomes, y=odds_distribution, \n",
    "                         mode='lines+markers', \n",
    "                         name='Odds', line=dict(color='blue'), \n",
    "                         marker=dict(color=colors, size=10)))\n",
    "\n",
    "# Add trace for log odds distribution\n",
    "fig.add_trace(go.Scatter(x=outcomes, y=log_odds, \n",
    "                         mode='lines+markers', \n",
    "                         name='log(Odds)', line=dict(color='yellow'), \n",
    "                         marker=dict(color=colors, size=10)))\n",
    "\n",
    "# Update layout\n",
    "fig.update_layout(\n",
    "    title='Odds and log(Odds) for Sums of Two Dice',\n",
    "    xaxis_title='Sum Greater Than',\n",
    "    yaxis_title='Value',\n",
    "    legend_title='Legend'  \n",
    ")\n",
    "\n",
    "# Show the figure\n",
    "pyo.iplot(fig)"
   ]
  },
  {
   "cell_type": "code",
   "execution_count": null,
   "id": "16fffcfd-2cb8-4702-987a-577b34d21776",
   "metadata": {},
   "outputs": [],
   "source": []
  }
 ],
 "metadata": {
  "kernelspec": {
   "display_name": "Python 3 (ipykernel)",
   "language": "python",
   "name": "python3"
  },
  "language_info": {
   "codemirror_mode": {
    "name": "ipython",
    "version": 3
   },
   "file_extension": ".py",
   "mimetype": "text/x-python",
   "name": "python",
   "nbconvert_exporter": "python",
   "pygments_lexer": "ipython3",
   "version": "3.11.7"
  }
 },
 "nbformat": 4,
 "nbformat_minor": 5
}
